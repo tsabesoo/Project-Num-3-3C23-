{
 "cells": [
  {
   "cell_type": "markdown",
   "metadata": {},
   "source": [
    "# Install and Import Dependencies"
   ]
  },
  {
   "cell_type": "code",
   "execution_count": 30,
   "metadata": {},
   "outputs": [
    {
     "name": "stdout",
     "output_type": "stream",
     "text": [
      "Looking in links: https://download.pytorch.org/whl/torch_stable.html\n"
     ]
    },
    {
     "name": "stderr",
     "output_type": "stream",
     "text": [
      "ERROR: Could not find a version that satisfies the requirement torch==1.8.1+cu111 (from versions: 2.0.0, 2.0.0+cpu, 2.0.0+cu117, 2.0.0+cu118, 2.0.1, 2.0.1+cpu, 2.0.1+cu117, 2.0.1+cu118, 2.1.0, 2.1.0+cpu, 2.1.0+cu118, 2.1.0+cu121, 2.1.1, 2.1.1+cpu, 2.1.1+cu118, 2.1.1+cu121, 2.1.2, 2.1.2+cpu, 2.1.2+cu118, 2.1.2+cu121, 2.2.0, 2.2.0+cpu, 2.2.0+cu118, 2.2.0+cu121, 2.2.1, 2.2.1+cpu, 2.2.1+cu118, 2.2.1+cu121, 2.2.2, 2.2.2+cpu, 2.2.2+cu118, 2.2.2+cu121, 2.3.0, 2.3.0+cpu, 2.3.0+cu118, 2.3.0+cu121)\n",
      "ERROR: No matching distribution found for torch==1.8.1+cu111\n"
     ]
    },
    {
     "name": "stdout",
     "output_type": "stream",
     "text": [
      "Requirement already satisfied: transformers in c:\\users\\thath\\anaconda3\\envs\\sa\\lib\\site-packages (4.40.1)\n",
      "Requirement already satisfied: requests in c:\\users\\thath\\anaconda3\\envs\\sa\\lib\\site-packages (2.31.0)\n",
      "Requirement already satisfied: beautifulsoup4 in c:\\users\\thath\\anaconda3\\envs\\sa\\lib\\site-packages (4.12.3)\n",
      "Requirement already satisfied: pandas in c:\\users\\thath\\anaconda3\\envs\\sa\\lib\\site-packages (2.2.2)\n",
      "Requirement already satisfied: numpy in c:\\users\\thath\\anaconda3\\envs\\sa\\lib\\site-packages (1.26.4)\n",
      "Requirement already satisfied: filelock in c:\\users\\thath\\anaconda3\\envs\\sa\\lib\\site-packages (from transformers) (3.14.0)\n",
      "Requirement already satisfied: huggingface-hub<1.0,>=0.19.3 in c:\\users\\thath\\anaconda3\\envs\\sa\\lib\\site-packages (from transformers) (0.23.0)\n",
      "Requirement already satisfied: packaging>=20.0 in c:\\users\\thath\\anaconda3\\envs\\sa\\lib\\site-packages (from transformers) (24.0)\n",
      "Requirement already satisfied: pyyaml>=5.1 in c:\\users\\thath\\anaconda3\\envs\\sa\\lib\\site-packages (from transformers) (6.0.1)\n",
      "Requirement already satisfied: regex!=2019.12.17 in c:\\users\\thath\\anaconda3\\envs\\sa\\lib\\site-packages (from transformers) (2024.4.28)\n",
      "Requirement already satisfied: tokenizers<0.20,>=0.19 in c:\\users\\thath\\anaconda3\\envs\\sa\\lib\\site-packages (from transformers) (0.19.1)\n",
      "Requirement already satisfied: safetensors>=0.4.1 in c:\\users\\thath\\anaconda3\\envs\\sa\\lib\\site-packages (from transformers) (0.4.3)\n",
      "Requirement already satisfied: tqdm>=4.27 in c:\\users\\thath\\anaconda3\\envs\\sa\\lib\\site-packages (from transformers) (4.66.4)\n",
      "Requirement already satisfied: charset-normalizer<4,>=2 in c:\\users\\thath\\anaconda3\\envs\\sa\\lib\\site-packages (from requests) (3.3.2)\n",
      "Requirement already satisfied: idna<4,>=2.5 in c:\\users\\thath\\anaconda3\\envs\\sa\\lib\\site-packages (from requests) (3.7)\n",
      "Requirement already satisfied: urllib3<3,>=1.21.1 in c:\\users\\thath\\anaconda3\\envs\\sa\\lib\\site-packages (from requests) (2.2.1)\n",
      "Requirement already satisfied: certifi>=2017.4.17 in c:\\users\\thath\\anaconda3\\envs\\sa\\lib\\site-packages (from requests) (2024.2.2)\n",
      "Requirement already satisfied: soupsieve>1.2 in c:\\users\\thath\\anaconda3\\envs\\sa\\lib\\site-packages (from beautifulsoup4) (2.5)\n",
      "Requirement already satisfied: python-dateutil>=2.8.2 in c:\\users\\thath\\anaconda3\\envs\\sa\\lib\\site-packages (from pandas) (2.9.0)\n",
      "Requirement already satisfied: pytz>=2020.1 in c:\\users\\thath\\anaconda3\\envs\\sa\\lib\\site-packages (from pandas) (2024.1)\n",
      "Requirement already satisfied: tzdata>=2022.7 in c:\\users\\thath\\anaconda3\\envs\\sa\\lib\\site-packages (from pandas) (2024.1)\n",
      "Requirement already satisfied: fsspec>=2023.5.0 in c:\\users\\thath\\anaconda3\\envs\\sa\\lib\\site-packages (from huggingface-hub<1.0,>=0.19.3->transformers) (2024.3.1)\n",
      "Requirement already satisfied: typing-extensions>=3.7.4.3 in c:\\users\\thath\\anaconda3\\envs\\sa\\lib\\site-packages (from huggingface-hub<1.0,>=0.19.3->transformers) (4.11.0)\n",
      "Requirement already satisfied: six>=1.5 in c:\\users\\thath\\anaconda3\\envs\\sa\\lib\\site-packages (from python-dateutil>=2.8.2->pandas) (1.16.0)\n",
      "Requirement already satisfied: colorama in c:\\users\\thath\\anaconda3\\envs\\sa\\lib\\site-packages (from tqdm>=4.27->transformers) (0.4.6)\n",
      "c:\\Users\\thath\\anaconda3\\envs\\sa\\python.exe\n"
     ]
    }
   ],
   "source": [
    "!pip install torch==1.8.1+cu111 torchvision==0.9.1+cu111 torchaudio===0.8.1 -f https://download.pytorch.org/whl/torch_stable.html\n",
    "!pip install transformers requests beautifulsoup4 pandas numpy\n",
    "import sys\n",
    "print(sys.executable)\n",
    "from transformers import AutoTokenizer\n",
    "from transformers import AutoModelForSequenceClassification\n",
    "import torch\n",
    "from bs4 import BeautifulSoup\n",
    "import requests\n",
    "import re "
   ]
  },
  {
   "cell_type": "code",
   "execution_count": 4,
   "metadata": {},
   "outputs": [],
   "source": [
    "from transformers import AutoTokenizer, AutoModelForSequenceClassification\n",
    "import torch\n",
    "import requests\n",
    "from bs4 import BeautifulSoup\n",
    "import re"
   ]
  },
  {
   "cell_type": "code",
   "execution_count": 11,
   "metadata": {},
   "outputs": [
    {
     "name": "stdout",
     "output_type": "stream",
     "text": [
      "c:\\Users\\thath\\anaconda3\\envs\\sa\\python.exe\n"
     ]
    },
    {
     "name": "stderr",
     "output_type": "stream",
     "text": [
      "c:\\Users\\thath\\anaconda3\\envs\\sa\\Lib\\site-packages\\huggingface_hub\\file_download.py:1132: FutureWarning: `resume_download` is deprecated and will be removed in version 1.0.0. Downloads always resume when possible. If you want to force a new download, use `force_download=True`.\n",
      "  warnings.warn(\n"
     ]
    }
   ],
   "source": [
    "tokenizer = AutoTokenizer.from_pretrained('nlptown/bert-base-multilingual-uncased-sentiment')\n",
    "\n",
    "model = AutoModelForSequenceClassification.from_pretrained('nlptown/bert-base-multilingual-uncased-sentiment')"
   ]
  },
  {
   "cell_type": "code",
   "execution_count": 12,
   "metadata": {},
   "outputs": [],
   "source": [
    "tokens = tokenizer.encode('It was good but couldve been better. Great', return_tensors='pt')"
   ]
  },
  {
   "cell_type": "code",
   "execution_count": 13,
   "metadata": {},
   "outputs": [],
   "source": [
    "result = model(tokens)"
   ]
  },
  {
   "cell_type": "code",
   "execution_count": 14,
   "metadata": {},
   "outputs": [
    {
     "data": {
      "text/plain": [
       "tensor([[-2.7768, -1.2353,  1.4419,  1.9804,  0.4584]],\n",
       "       grad_fn=<AddmmBackward0>)"
      ]
     },
     "execution_count": 14,
     "metadata": {},
     "output_type": "execute_result"
    }
   ],
   "source": [
    "result.logits"
   ]
  },
  {
   "cell_type": "code",
   "execution_count": 15,
   "metadata": {},
   "outputs": [
    {
     "data": {
      "text/plain": [
       "4"
      ]
     },
     "execution_count": 15,
     "metadata": {},
     "output_type": "execute_result"
    }
   ],
   "source": [
    "int(torch.argmax(result.logits))+1"
   ]
  },
  {
   "cell_type": "markdown",
   "metadata": {},
   "source": [
    "# Collect Reviews"
   ]
  },
  {
   "cell_type": "code",
   "execution_count": 19,
   "metadata": {},
   "outputs": [],
   "source": [
    "r = requests.get('https://uk.trustpilot.com/review/www.qatarairways.com')\n",
    "soup = BeautifulSoup(r.text, 'html.parser')\n",
    "regex = re.compile('.*typography_body.*')\n",
    "results = soup.find_all('p', {'class':regex})\n",
    "reviews = [result.text for result in results]"
   ]
  },
  {
   "cell_type": "code",
   "execution_count": 20,
   "metadata": {},
   "outputs": [
    {
     "data": {
      "text/plain": [
       "['1.6',\n",
       " 'In the Flights search site category',\n",
       " 'Visit this website',\n",
       " '3,491 total',\n",
       " '5-star',\n",
       " '13%',\n",
       " '4-star',\n",
       " '3%',\n",
       " '3-star',\n",
       " '2%',\n",
       " '2-star',\n",
       " '6%',\n",
       " '1-star',\n",
       " '76%',\n",
       " 'I recently went online to book a flight with Qatar Airways. Logging onto the airline site I was given a price for a flight from Sharjah to London Heathrow. I then signed into my frequent flyer account and saw a promotion offering a discount of up to 12% if you paid by visa card. I started a new search using the visa link and found that the price quoted had been increased  for the flight from Sharjah and then discounted to the price I had already been quoted for payment using any payment method. When I contacted Qatar about the misleading advertising, the customer service rep ignored the content of my complaint and failed to address the issue of false advertising.',\n",
       " 'Date of experience: 29 April 2024',\n",
       " 'I booked a flight with Qatar Airways that arrives in Doha at 8:40 PM and departs as soon as possible on the next day at 8:25 AM. According to their stated conditions, this should have qualified me for a complimentary hotel room since my second flight is the soonest after my arrival to Doha. However, to my surprise, Qatar Airways denied my request, citing that I should have chosen a different first flight to Doha arriving at 6:25 AM, making it only 2h layover instead of 12h.It feels like Qatar Airways is using ambiguous language to avoid fulfilling their promises to customers. Nowhere in their conditions does it state that both flights must be selected to minimize layover time. ',\n",
       " 'Date of experience: 02 May 2024',\n",
       " 'My experience started before I even got on the flight. Trying to change a cell number on their so called privilege club. WOW absolutely horrendous, it took 5 calls and 3 email for such a simple thing due to confusion on their part and incorrect information they were giving. Incredibly frustrating experience from call centres where I struggled to understand their poor English, mostly India to giving me wrong email addresses and wrong information completely. If this is an example of their logistics I can’t say I’m looking forward to the flight but let’s see. ',\n",
       " 'Date of experience: 28 April 2024',\n",
       " 'Never ever use their services. I used their services for International travel,and regret using it. Valuables  from your baggage are stolen, and when you raise it with them they dont bother!!! Four months and still they do  not have a clue!!!!',\n",
       " 'Date of experience: 02 January 2024',\n",
       " 'Istanbul to lombok teturn flight missed because no taxis that day due to istanbul marathon...finally made it just as check in was closed but nobody helps, internet there hardly works...8 hours later finally got a human online to speak to, proposed new booking that costs double my initial return flight....spending 2 days waiting and figuring things out on airport. Never Qatar again',\n",
       " 'Date of experience: 28 April 2024',\n",
       " 'Lahore to Doha flight on 24th April Mother who is elderly is a heart patient and was made to lift her bags on the carousel. Repeatedly told staff she is struggling but they told her to step aside and let others be served . Then when she managed they told her she was 10 kilos over weight even though she was in her allowance booked by her agent . She argued but they cudnt care less . They made her empty a lot of stuff which was packed with love and a lot of effort. Eventually she got on board last one on . By that time her heart had palpitations and she was needing assistance but staff couldn’t care less . So disgusting the Lahore airport staff whereas our U.K. airports are the most helpful ',\n",
       " 'Date of experience: 24 April 2024',\n",
       " 'We had requested wheelchair assistance for my parents during their layover in Doha through Qatar Airways, and were assured before their departure that they would be taken care of. Unfortunately, they were left unattended and had to navigate the airport on their own. Despite their efforts, they ended up walking to their gate without the promised wheelchairs, while also carrying their heavy hand luggage. This was particularly concerning as my mom recently underwent knee surgery, and such neglect could potentially necessitate another surgery.Despite multiple calls for help, Qatar Airways did not provide any assistance, leaving us extremely disappointed with their service.',\n",
       " 'Date of experience: 02 May 2024',\n",
       " 'Flight # 740 Date April 27Los Angeles to Kuwait I heard great deal about Qatar airlines and it’s highly standard. All this changed today. We encouter total of 12 hours delayed .5 hours in Los Angeles and 8 hours in Doha.We were not even offered any form of compensation whatsoever .Totally pathetic and unprofessional.I’m extremely disappointed and I’m sure this my last flight on Qatar airways.At LAX they were understaffed and very slow.I will share my disappointment experience with all my network family, works and friends .I will advise everyone to travel on the Emirates They are more efficient and highly professional ',\n",
       " 'Date of experience: 27 April 2024',\n",
       " 'They have a terrible customer care and service. I was not helped well when I called twice to two different customer agents to change my flight. It is very unfortunate for such a great airline to have this terrible customer service.',\n",
       " 'Date of experience: 29 April 2024',\n",
       " 'Gay unfriendly airline, ..saying a comment about how unpleasantly uncomfy seats are gives you risk to get offloaded . Worst airlines in lowest class for tolerance to passengers !! To be avoided  forever !! Never. They don’t care and they don’t listen , ',\n",
       " 'Date of experience: 17 August 2023',\n",
       " 'This was the first time that my wife and I had used Qatar Airways on a long haul package holiday as we have always used Emirates in the past. However we were very impressed with their check in and on-board service. The staff were very friendly, aircraft were comfortable and spacious (we were Economy class) and the on-board meals were very tasty with drinks available as and when. Our flights were all on time and Doha airport was impressive and easy to navigate. The one overriding highlight for us and which quite frankly made us feel humble and appreciated was at the Qatar check-in desks in Saigon. The check-in staff marched out in single file, stood in front of their desks and bowed to the passengers lined up to be checked in!! I cannot give anything other than 5 stars for their service and we will definitely fly with them again. ',\n",
       " 'Date of experience: 13 April 2024',\n",
       " 'Where do I begin ? We upgraded our seats because, originally had regular standard seats all the way in the back by the bathrooms. Trash all over the ground, they only come by one time to pick up trash. So when you have your complimentary meal they give you, you have to hold onto it & all the trash for over 30 min. The service is very slow. I asked for a drink multiple times from several different flight attendants, & never received the drinks. Babies & kids running around the plane for almost the whole 14 hours of our flight. We had to do an emergency stop, which delayed us another 2 hours. I did not get any sleep on the plane because the babies were crying so loud. I had my AirPods in & I could still hear them crying though it. Overall, I am very disappointed with the service & experience here Qatar Airways, being it was my very 1st time flying with Qatar. It was not good at all. The communication is also terrible. They do not communicate well at all. When we made an emergency landing, they did not inform us when we would be flying back to our original destination. My dad had to find out on his own, on his phone. Very very disappointing.',\n",
       " 'Date of experience: 27 April 2024',\n",
       " 'The ground staff is rude as usual. SOP instead of empathy while I was facing an issue created by their own ground staff.It feels like dealing with robots.My status has lowered because of covid (no trips) & I found out in Doha while Jakarta (departure) has confirmed my silver status was still on.Very disappointing !',\n",
       " 'Date of experience: 14 April 2024',\n",
       " 'honestly WORST customer service ever, especially for a business class ticket. They cancelled the flight on us when we were already ON THE PLANE and \"off boarded\" us to then leave us in the lurch with what was happening next.We paid extra to have the privilege to enjoy the  Qsuite and after 40 minutes on the phone with their customer service, they only told us to \"raise a complaint\" to get our money back.In 40 years of travelling I have never experienced such awful customer service. Stir clear from them if you don\\'t want to be left hanging when you are travelling !',\n",
       " 'Date of experience: 24 April 2024',\n",
       " 'I received an email offer from Qatar claiming that if I bought a ticket through the mobile app, by using the promo code GOMOB I would get 20% discount on my purchase. I had to buy a ticket, so I used the app and started my purchase by inserting the promo code. I compared the price on the website with the one made in the app through GOMOB and guess what, exactly the same price to the cent, 755,10$. Since the payment checkout was cumbersome on the app, I opted back to the web-based transaction. I wonder why these tricks are used to lure users into wasting their time, what is worse is the email received that was deceitful. Where is the 20% discount Qatar Airways!',\n",
       " 'Date of experience: 16 April 2024',\n",
       " 'Have used Qatar for flights for some time and only on my last trip had I a problem. I contacted customer care and all I can say it was a total waste of time. I received a computer generated reply with my flight number and date of travel ‘cut and pasted’ into what is a  standard letter of apology sent to all customers who have a genuine complaint.  BTW, they are still promoting ‘Qatar FIFA World Cup 2022’ packages on their flights, two years after the tournament, so clearly they are out of touch in more than just customer care.If you can avoid them.',\n",
       " 'Date of experience: 14 April 2024',\n",
       " \"Appalling customer service.  An electrical problem meant no onboard entertainment, no lights or toilets on one side. Flight arrived in Doha 2+ hours late late resulting in a missed connection and unplanned 15-hour layover.  No hotel provided, no lounge access, 'meal vouchers' covered 2 small bottles coke, one small chocolate and a pancake. I submitted a claim, but not a word from them 6+ weeks later. I will never fly with Qatar again. \",\n",
       " 'Date of experience: 28 February 2024',\n",
       " 'I missed my connecting flight in Doha (Hamad) airport as my first flight was delayed by 1hr and 30min. I had to stay in line for 3 hours at the Qatarairways costumer service desks to rebook a ticket and have a new boarding pass. There were not enough staff to help people and that is completely unacceptable for a five-star airline. ',\n",
       " 'Date of experience: 16 April 2024',\n",
       " \"I went to the Maldives on Qatar. On the return leg the air hostess knocked my glasses onto the floor. I didn't realise at the time but he had broken my glasses (only when I took them out of the case at home did I realise). I contact them regarding this with a view to getting them to pay for repair and they completely dismissed it. Suffice to say Qatar won't be getting my business again.\",\n",
       " 'Date of experience: 11 April 2024',\n",
       " \"These guys really get the details right. Every guest gets treated like a first-class passenger. The food is excellent, the seat quality is great, everything is organized, and the stuff is overly kind. They are pouring drinks with no end for anyone with a smile on their face. And they really also care about children, people with disabilities and special needs. For me, it's really the best airline out there.\",\n",
       " 'Date of experience: 04 April 2024',\n",
       " 'Claim your profile to access Trustpilot’s free business tools and connect with customers.',\n",
       " 'Claim your profile to access Trustpilot’s free business tools and connect with customers.',\n",
       " 'Emirates',\n",
       " '2,505',\n",
       " 'Claimed',\n",
       " 'Etihad',\n",
       " '1,203',\n",
       " 'Claimed',\n",
       " 'Lufthansa',\n",
       " '10,612',\n",
       " 'Unclaimed',\n",
       " 'Suggested companies are based on people’s browsing tendencies.',\n",
       " 'Anyone can write a Trustpilot review. People who write reviews have ownership to edit or delete them at any time, and they’ll be displayed as long as an account is active.',\n",
       " 'Companies can ask for reviews via automatic invitations. Labeled Verified, they’re about genuine experiences.Learn more about other kinds of reviews.',\n",
       " 'We use dedicated people and clever technology to safeguard our platform. Find out how we combat fake reviews.',\n",
       " 'Here are 8 tips for writing great reviews.',\n",
       " 'Verification can help ensure real people write reviews about real companies.',\n",
       " 'It goes against our guidelines to offer incentives for reviews. We also ensure all reviews are published without moderation.']"
      ]
     },
     "execution_count": 20,
     "metadata": {},
     "output_type": "execute_result"
    }
   ],
   "source": [
    "reviews"
   ]
  },
  {
   "cell_type": "markdown",
   "metadata": {},
   "source": [
    "# Load Reviews into DataFrame and Score"
   ]
  },
  {
   "cell_type": "code",
   "execution_count": 21,
   "metadata": {},
   "outputs": [],
   "source": [
    "import numpy as np\n",
    "import pandas as pd"
   ]
  },
  {
   "cell_type": "code",
   "execution_count": 22,
   "metadata": {},
   "outputs": [],
   "source": [
    "df = pd.DataFrame(np.array(reviews), columns=['review'])"
   ]
  },
  {
   "cell_type": "code",
   "execution_count": 23,
   "metadata": {},
   "outputs": [
    {
     "data": {
      "text/plain": [
       "'1.6'"
      ]
     },
     "execution_count": 23,
     "metadata": {},
     "output_type": "execute_result"
    }
   ],
   "source": [
    "df['review'].iloc[0]"
   ]
  },
  {
   "cell_type": "code",
   "execution_count": 24,
   "metadata": {},
   "outputs": [],
   "source": [
    "def sentiment_score(review):\n",
    "    tokens = tokenizer.encode(review, return_tensors='pt')\n",
    "    result = model(tokens)\n",
    "    return int(torch.argmax(result.logits))+1"
   ]
  },
  {
   "cell_type": "code",
   "execution_count": 25,
   "metadata": {},
   "outputs": [
    {
     "data": {
      "text/plain": [
       "4"
      ]
     },
     "execution_count": 25,
     "metadata": {},
     "output_type": "execute_result"
    }
   ],
   "source": [
    "sentiment_score(df['review'].iloc[1])"
   ]
  },
  {
   "cell_type": "code",
   "execution_count": 26,
   "metadata": {},
   "outputs": [],
   "source": [
    "df['sentiment'] = df['review'].apply(lambda x: sentiment_score(x[:512]))"
   ]
  },
  {
   "cell_type": "code",
   "execution_count": 27,
   "metadata": {},
   "outputs": [
    {
     "data": {
      "text/html": [
       "<div>\n",
       "<style scoped>\n",
       "    .dataframe tbody tr th:only-of-type {\n",
       "        vertical-align: middle;\n",
       "    }\n",
       "\n",
       "    .dataframe tbody tr th {\n",
       "        vertical-align: top;\n",
       "    }\n",
       "\n",
       "    .dataframe thead th {\n",
       "        text-align: right;\n",
       "    }\n",
       "</style>\n",
       "<table border=\"1\" class=\"dataframe\">\n",
       "  <thead>\n",
       "    <tr style=\"text-align: right;\">\n",
       "      <th></th>\n",
       "      <th>review</th>\n",
       "      <th>sentiment</th>\n",
       "    </tr>\n",
       "  </thead>\n",
       "  <tbody>\n",
       "    <tr>\n",
       "      <th>0</th>\n",
       "      <td>1.6</td>\n",
       "      <td>5</td>\n",
       "    </tr>\n",
       "    <tr>\n",
       "      <th>1</th>\n",
       "      <td>In the Flights search site category</td>\n",
       "      <td>4</td>\n",
       "    </tr>\n",
       "    <tr>\n",
       "      <th>2</th>\n",
       "      <td>Visit this website</td>\n",
       "      <td>5</td>\n",
       "    </tr>\n",
       "    <tr>\n",
       "      <th>3</th>\n",
       "      <td>3,491 total</td>\n",
       "      <td>1</td>\n",
       "    </tr>\n",
       "    <tr>\n",
       "      <th>4</th>\n",
       "      <td>5-star</td>\n",
       "      <td>5</td>\n",
       "    </tr>\n",
       "    <tr>\n",
       "      <th>...</th>\n",
       "      <td>...</td>\n",
       "      <td>...</td>\n",
       "    </tr>\n",
       "    <tr>\n",
       "      <th>67</th>\n",
       "      <td>Companies can ask for reviews via automatic in...</td>\n",
       "      <td>5</td>\n",
       "    </tr>\n",
       "    <tr>\n",
       "      <th>68</th>\n",
       "      <td>We use dedicated people and clever technology ...</td>\n",
       "      <td>5</td>\n",
       "    </tr>\n",
       "    <tr>\n",
       "      <th>69</th>\n",
       "      <td>Here are 8 tips for writing great reviews.</td>\n",
       "      <td>5</td>\n",
       "    </tr>\n",
       "    <tr>\n",
       "      <th>70</th>\n",
       "      <td>Verification can help ensure real people write...</td>\n",
       "      <td>4</td>\n",
       "    </tr>\n",
       "    <tr>\n",
       "      <th>71</th>\n",
       "      <td>It goes against our guidelines to offer incent...</td>\n",
       "      <td>4</td>\n",
       "    </tr>\n",
       "  </tbody>\n",
       "</table>\n",
       "<p>72 rows × 2 columns</p>\n",
       "</div>"
      ],
      "text/plain": [
       "                                               review  sentiment\n",
       "0                                                 1.6          5\n",
       "1                 In the Flights search site category          4\n",
       "2                                  Visit this website          5\n",
       "3                                         3,491 total          1\n",
       "4                                              5-star          5\n",
       "..                                                ...        ...\n",
       "67  Companies can ask for reviews via automatic in...          5\n",
       "68  We use dedicated people and clever technology ...          5\n",
       "69         Here are 8 tips for writing great reviews.          5\n",
       "70  Verification can help ensure real people write...          4\n",
       "71  It goes against our guidelines to offer incent...          4\n",
       "\n",
       "[72 rows x 2 columns]"
      ]
     },
     "execution_count": 27,
     "metadata": {},
     "output_type": "execute_result"
    }
   ],
   "source": [
    "df"
   ]
  },
  {
   "cell_type": "code",
   "execution_count": 28,
   "metadata": {},
   "outputs": [
    {
     "data": {
      "text/plain": [
       "'3,491 total'"
      ]
     },
     "execution_count": 28,
     "metadata": {},
     "output_type": "execute_result"
    }
   ],
   "source": [
    "df['review'].iloc[3]"
   ]
  }
 ],
 "metadata": {
  "kernelspec": {
   "display_name": "sa",
   "language": "python",
   "name": "python3"
  },
  "language_info": {
   "codemirror_mode": {
    "name": "ipython",
    "version": 3
   },
   "file_extension": ".py",
   "mimetype": "text/x-python",
   "name": "python",
   "nbconvert_exporter": "python",
   "pygments_lexer": "ipython3",
   "version": "3.11.9"
  }
 },
 "nbformat": 4,
 "nbformat_minor": 2
}
